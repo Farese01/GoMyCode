{
 "cells": [
  {
   "cell_type": "code",
   "execution_count": 1,
   "metadata": {},
   "outputs": [
    {
     "name": "stdout",
     "output_type": "stream",
     "text": [
      "[2002, 2009, 2016, 2023, 2037, 2044, 2051, 2058, 2072, 2079, 2086, 2093, 2107, 2114, 2121, 2128, 2142, 2149, 2156, 2163, 2177, 2184, 2191, 2198, 2212, 2219, 2226, 2233, 2247, 2254, 2261, 2268, 2282, 2289, 2296, 2303, 2317, 2324, 2331, 2338, 2352, 2359, 2366, 2373, 2387, 2394, 2401, 2408, 2422, 2429, 2436, 2443, 2457, 2464, 2471, 2478, 2492, 2499, 2506, 2513, 2527, 2534, 2541, 2548, 2562, 2569, 2576, 2583, 2597, 2604, 2611, 2618, 2632, 2639, 2646, 2653, 2667, 2674, 2681, 2688, 2702, 2709, 2716, 2723, 2737, 2744, 2751, 2758, 2772, 2779, 2786, 2793, 2807, 2814, 2821, 2828, 2842, 2849, 2856, 2863, 2877, 2884, 2891, 2898, 2912, 2919, 2926, 2933, 2947, 2954, 2961, 2968, 2982, 2989, 2996, 3003, 3017, 3024, 3031, 3038, 3052, 3059, 3066, 3073, 3087, 3094, 3101, 3108, 3122, 3129, 3136, 3143, 3157, 3164, 3171, 3178, 3192, 3199]\n"
     ]
    }
   ],
   "source": [
    "a = []\n",
    "for i in range (2000,3201):\n",
    "    if(i%7==0 and i%5!=0):\n",
    "        a.append(i)\n",
    "print(a)"
   ]
  },
  {
   "cell_type": "code",
   "execution_count": 10,
   "metadata": {},
   "outputs": [
    {
     "name": "stdout",
     "output_type": "stream",
     "text": [
      "0\n",
      "1\n"
     ]
    }
   ],
   "source": [
    "x = input()\n",
    "x = int(x)\n",
    "fact = 1\n",
    "i = 2\n",
    "while(i <= x):\n",
    "    fact = fact*i\n",
    "    i = i+1\n",
    "print(fact)\n"
   ]
  },
  {
   "cell_type": "code",
   "execution_count": 11,
   "metadata": {},
   "outputs": [
    {
     "name": "stdout",
     "output_type": "stream",
     "text": [
      "8\n",
      "{1: 1, 2: 4, 3: 9, 4: 16, 5: 25, 6: 36, 7: 49, 8: 64}\n"
     ]
    }
   ],
   "source": [
    "n = input()\n",
    "n = int(n)\n",
    "d = {}\n",
    "for i in range(1,n+1):\n",
    "    d[i]=i*i\n",
    "print (d)"
   ]
  },
  {
   "cell_type": "code",
   "execution_count": 26,
   "metadata": {},
   "outputs": [
    {
     "name": "stdout",
     "output_type": "stream",
     "text": [
      "Enter a string kitten\n",
      "Enter the index of the removed char 1\n",
      "ktten\n"
     ]
    }
   ],
   "source": [
    "a = input(\"Enter a string: \")\n",
    "while(True):\n",
    "    n = input(\"Enter the index of the removed char: \")\n",
    "    n = int(n)\n",
    "    if(n >=0 and n < len(a)):\n",
    "        break\n",
    "a = a[:n] + a[n+1:]\n",
    "print(a)\n"
   ]
  },
  {
   "cell_type": "code",
   "execution_count": 34,
   "metadata": {
    "scrolled": false
   },
   "outputs": [
    {
     "name": "stdout",
     "output_type": "stream",
     "text": [
      "From Array to List :  [[0, 1], [2, 3], [4, 5]]\n"
     ]
    }
   ],
   "source": [
    "import numpy as np \n",
    "A = np.array([[0,1],[2,3],[4,5]])\n",
    "list1 = A.tolist()\n",
    "print(\"From Array to List : \", list1)\n",
    "            "
   ]
  },
  {
   "cell_type": "code",
   "execution_count": 36,
   "metadata": {},
   "outputs": [
    {
     "name": "stdout",
     "output_type": "stream",
     "text": [
      "[[ 1. -1.]\n",
      " [-1.  1.]]\n"
     ]
    }
   ],
   "source": [
    "import numpy as np\n",
    "A = np.array([[0,1,2]])\n",
    "B = np.array([[2,1,0]])\n",
    "C = np.cov(A, B)\n",
    "print(C)"
   ]
  },
  {
   "cell_type": "code",
   "execution_count": 43,
   "metadata": {},
   "outputs": [
    {
     "name": "stdout",
     "output_type": "stream",
     "text": [
      "25895,21456,2145\n",
      "[293, 267, 84]\n"
     ]
    }
   ],
   "source": [
    "import math\n",
    "C = 50\n",
    "H = 30\n",
    "css = input()\n",
    "list1 = css.split(\",\")\n",
    "list2 =[]\n",
    "for D in list1:\n",
    "    list2.append(int(math.sqrt((2*C*int(D))/H)))\n",
    "print(list2)\n",
    "        \n",
    "        \n",
    "        "
   ]
  }
 ],
 "metadata": {
  "kernelspec": {
   "display_name": "Python 3",
   "language": "python",
   "name": "python3"
  },
  "language_info": {
   "codemirror_mode": {
    "name": "ipython",
    "version": 3
   },
   "file_extension": ".py",
   "mimetype": "text/x-python",
   "name": "python",
   "nbconvert_exporter": "python",
   "pygments_lexer": "ipython3",
   "version": "3.8.5"
  }
 },
 "nbformat": 4,
 "nbformat_minor": 4
}
